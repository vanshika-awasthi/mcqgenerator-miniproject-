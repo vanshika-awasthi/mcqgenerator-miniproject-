{
 "cells": [
  {
   "cell_type": "code",
   "execution_count": 19,
   "metadata": {},
   "outputs": [],
   "source": [
    "import os \n",
    "import json\n",
    "import pandas as pd\n",
    "import traceback"
   ]
  },
  {
   "cell_type": "code",
   "execution_count": 20,
   "metadata": {},
   "outputs": [],
   "source": [
    "from langchain.chat_models import ChatOpenAI"
   ]
  },
  {
   "cell_type": "code",
   "execution_count": 21,
   "metadata": {},
   "outputs": [
    {
     "data": {
      "text/plain": [
       "True"
      ]
     },
     "execution_count": 21,
     "metadata": {},
     "output_type": "execute_result"
    }
   ],
   "source": [
    "from dotenv import load_dotenv\n",
    "load_dotenv() #take environment variables from .env "
   ]
  },
  {
   "cell_type": "code",
   "execution_count": 22,
   "metadata": {},
   "outputs": [],
   "source": [
    "# First writedown your own OPENAI API KEY\n",
    "KEY = os.getenv('OPENAI_API_KEY')"
   ]
  },
  {
   "cell_type": "code",
   "execution_count": 23,
   "metadata": {},
   "outputs": [],
   "source": [
    "llm = ChatOpenAI(openai_api_key=KEY, model_name='gpt-3.5-turbo', temperature='0.5')"
   ]
  },
  {
   "cell_type": "code",
   "execution_count": 24,
   "metadata": {},
   "outputs": [],
   "source": [
    "from langchain .llms import OpenAI\n",
    "from langchain.prompts import PromptTemplate\n",
    "from langchain.chains import LLMChain\n",
    "from langchain.chains import SequentialChain\n",
    "from langchain.callbacks import get_openai_callback\n",
    "import PyPDF2"
   ]
  },
  {
   "cell_type": "code",
   "execution_count": 25,
   "metadata": {},
   "outputs": [],
   "source": [
    "RESPONSE_JSON = {\n",
    "    \"1\": {\n",
    "        \"mcq\": \"multiple choice question\",\n",
    "        \"options\": {\n",
    "            \"a\": \"choice here\",\n",
    "            \"b\": \"choice here\",\n",
    "            \"c\": \"choice here\",\n",
    "            \"d\": \"choice here\",\n",
    "        },\n",
    "        \"correct\": \"correct answer\",\n",
    "    },\n",
    "    \"2\": {\n",
    "        \"mcq\": \"multiple choice question\",\n",
    "        \"options\": {\n",
    "            \"a\": \"choice here\",\n",
    "            \"b\": \"choice here\",\n",
    "            \"c\": \"choice here\",\n",
    "            \"d\": \"choice here\",\n",
    "        },\n",
    "        \"correct\": \"correct answer\",\n",
    "    },\n",
    "    \"3\": {\n",
    "        \"mcq\": \"multiple choice question\",\n",
    "        \"options\": {\n",
    "            \"a\": \"choice here\",\n",
    "            \"b\": \"choice here\",\n",
    "            \"c\": \"choice here\",\n",
    "            \"d\": \"choice here\",\n",
    "        },\n",
    "        \"correct\": \"correct answer\",\n",
    "    },\n",
    "}"
   ]
  },
  {
   "cell_type": "code",
   "execution_count": 26,
   "metadata": {},
   "outputs": [],
   "source": [
    "TEMPLATE=\"\"\"\n",
    "Text{text}\n",
    "You are an expert MCQ maker. Given the above text, it is your job to \\\n",
    "create a quiz of {number} multiple choice questions for {subject} students in {tone} tone.\n",
    "Make sute the questions are not repeated and check all the questions to be confirmed the text as well.\n",
    "Make sure to format your response like RESPONSE_JSON below and use it as a guide. \\\n",
    "Ensure to make {number} MCQs\n",
    "### RESPONSE_JSON\n",
    "{response_json}\n",
    "\n",
    "\"\"\""
   ]
  },
  {
   "cell_type": "code",
   "execution_count": 27,
   "metadata": {},
   "outputs": [],
   "source": [
    "quize_generation_prompt = PromptTemplate(\n",
    "    input_variables=['text','number','subject','tone','response_json'],\n",
    "    template=TEMPLATE\n",
    ")"
   ]
  },
  {
   "cell_type": "code",
   "execution_count": 28,
   "metadata": {},
   "outputs": [],
   "source": [
    "quiz_chain = LLMChain(llm=llm, prompt=quize_generation_prompt, output_key='quiz', verbose=True)"
   ]
  },
  {
   "cell_type": "code",
   "execution_count": 29,
   "metadata": {},
   "outputs": [],
   "source": [
    "TEMPLATE2=\"\"\"\n",
    "You are an expert english grammarian and writer. Given a Multiple Choice Quiz for {subject} students.\\\n",
    "You need to evaluate the complexity of the question and give a complete analysis of the quiz. Only use at max 50 words for complexity analysis. \n",
    "if the quiz is not at per with the cognitive and analytical abilities of the students,\\\n",
    "update the quiz questions which needs to be changed and change the tone such that it perfectly fits the student abilities\n",
    "Quiz_MCQs:\n",
    "{quiz}\n",
    "\n",
    "Check from an expert English Writer of the above quiz:\n",
    "\"\"\""
   ]
  },
  {
   "cell_type": "code",
   "execution_count": 30,
   "metadata": {},
   "outputs": [],
   "source": [
    "quize_evaluation_prompt = PromptTemplate(\n",
    "    input_variables=['subject','quiz'], \n",
    "    template=TEMPLATE2\n",
    ")"
   ]
  },
  {
   "cell_type": "code",
   "execution_count": 31,
   "metadata": {},
   "outputs": [],
   "source": [
    "review_chain = LLMChain(llm=llm, prompt=quize_evaluation_prompt, output_key='review', verbose=True)"
   ]
  },
  {
   "cell_type": "code",
   "execution_count": 32,
   "metadata": {},
   "outputs": [],
   "source": [
    "generate_evaluate_chain = SequentialChain(\n",
    "    chains=[quiz_chain, review_chain], \n",
    "    input_variables=['text','number','subject','tone','response_json'],\n",
    "    output_variables=['quiz','review'],\n",
    "    verbose=True\n",
    ")"
   ]
  },
  {
   "cell_type": "code",
   "execution_count": 61,
   "metadata": {},
   "outputs": [
    {
     "name": "stdout",
     "output_type": "stream",
     "text": [
      "Globalization is a process that encompasses the causes, courses, and consequences of transnational and transcultural integration of human and non-human activities. India had the distinction of being the world's largest economy till the end of the Mughal era, as it accounted for about 32.9% share of world GDP and about 17% of the world population. The goods produced in India had long been exported to far off destinations across the world;[1] the concept of globalization is hardly new to India.\n",
      "\n",
      "India currently accounts for 2.7% of world trade (as of 2015), up from 1.2% in 2006 according to the World Trade Organization (WTO).[2] Until the liberalisation of 1991, India was largely and intentionally isolated from the world markets, to protect its fledgeling economy and to achieve self-reliance. Foreign trade was subject to import tariffs, export taxes and quantitative restrictions, while foreign direct investment was restricted by upper-limit equity participation, restrictions on technology transfer, export obligations and government approvals; these approvals were needed for nearly 60% of new FDI in the industrial sector.[3] The restrictions ensured that FDI averaged only around $200M annually between 1985 and 1991; a large percentage of the capital flows consisted of foreign aid, commercial borrowing and deposits of non-resident Indians.[4]\n",
      "\n",
      "India's exports were stagnant for the first 15 years after independence, due to the predominance of tea, jute and cotton manufactures, demand for which was generally inelastic. Imports in the same period consisted predominantly of machinery, equipment and raw materials, due to nascent industrialisation. Since liberalisation, the value of India's international trade has become more broad-based and has risen to  63,0801 billion in 2003–04 from  12.50 billion in 1950–51.[citation needed] India's trading partners are China, the US, the UAE, the UK, Japan and the EU.[5] The exports during April 2007 were $12.31 billion up by 16% and import were $17.68 billion with an increase of 18.06% over the previous year.[6]\n",
      "\n",
      "India is a founding-member of General Agreement on Tariffs and Trade (GATT) since 1947 and its successor, the World Trade Organization. While participating actively in its general council meetings, India has been crucial in voicing the concerns of the developing world. For instance, India has continued its opposition to the inclusion of such matters as labour and environment issues and other non-tariff barriers into the WTO policies.[7]\n",
      "\n",
      "Despite reducing import restrictions several times in the 2000s,[8][9] India was evaluated by the WTO in 2008 as more restrictive than similar developing economies, such as Brazil, China, and Russia. The WTO also identified electricity shortages and inadequate transportation infrastructure as significant constraints on trade.[10][11][12] Its restrictiveness has been cited as a factor which isolated it from the global financial crisis of 2008–2009 more than other countries, even though it experienced reduced ongoing economic growth.[13]\n",
      "\n",
      "Economy\n",
      "India's economy has grown drastically since it integrated into the global economy in 1991. It has a drastic impact on India's economical condition. Its average annual rate has grown from 3.5% (1980–1990) to 7.7% (2002–2012). That rate peaked at 9.5% from 2005 to 2008. Economic growth has also led to increases in the per capita gross domestic product (GDP), from $1,255 in 1978 to $3,452 in 2005, and finally to $8,358 in 2022.[14]\n",
      "\n",
      "Jobs in the technology and business sectors have many benefits. However, only the people in those sectors are benefiting. The overall employment rate for the country has decreased, while the number of job seekers is increasing at a yearly rate of 2.5%. Despite these statistics, the GDP is increasing every year. Growth is limited to some states, including Gujarat, Maharashtra, Karnataka, Andhra Pradesh, and Tamil Nadu. Other states like Bihar, Uttar Pradesh (UP), Odisha, Madhya Pradesh (MP), Assam, and West Bengal remain poverty-stricken.[15]\n",
      "\n",
      "Investment\n",
      "See also: Economic liberalisation in India\n",
      "Share of top five investing countries in FDI inflows (Apr 2000 – Sept 2016)\n",
      "Rank\tCountry\tInflows\n",
      "(million USD)\tInflows (%)\n",
      "1\t Mauritius\t101,759.68\t32.81%[16]\n",
      "2\t Singapore\t50,559.91\t16.30%\n",
      "3\t United Kingdom\t24,072.30\t7.76%\n",
      "4\t Japan\t23,760.47\t7.66%\n",
      "5\t United States\t19,380.43\t6.25%\n",
      "Source: FDI in India Statistics[17]\n",
      "Foreign direct investment (FDI) in India has reached 2% of GDP, compared with 0.1% in 1990, and Indian investment in other countries rose sharply in 2006.[18]\n",
      "\n",
      "As the third-largest economy in the world in PPP terms, India is a preferred destination for FDI;[19] India has strengths in information technology and other significant areas such as auto components, chemicals, apparels, pharmaceuticals, and jewellery. Despite a surge in foreign investments, rigid FDI policies resulted in a significant hindrance. However, due to some positive economic reforms aimed at deregulating the economy and stimulating foreign investment, India has positioned itself as one of the front-runners of the rapidly growing Asia-Pacific region.[19] India has a large pool of skilled managerial and technical expertise. The size of the middle-class population stands at 50 million and represents a growing consumer market.[20]\n",
      "\n",
      "India's liberalised FDI policy as of 2005 allowed up to a 100% FDI stake in ventures. Industrial policy reforms have substantially reduced industrial licensing requirements, removed restrictions on expansion and facilitated easy access to foreign technology and FDI. The upward moving growth curve of the real-estate sector owes some credit to a booming economy and liberalised FDI regime. In March 2005, the government amended the rules to allow 100 per cent FDI in the construction business.[21] This automatic route has been permitted in townships, housing, built-up infrastructure and construction development projects including housing, commercial premises, hotels, resorts, hospitals, educational institutions, recreational facilities, and city- and regional-level infrastructure.\n",
      "\n",
      "Several changes were approved on the FDI policy to remove the caps in most sectors. Fields which require relaxation in FDI restrictions include civil aviation, construction development, industrial parks, petroleum and natural gas, commodity exchanges, credit-information services and mining. But this still leaves an unfinished agenda of permitting greater foreign investment in politically sensitive areas such as insurance and retailing. FDI inflows into India reached a record US$19.5bn in fiscal year 2006/07 (April–March), according to the government's Secretariat for Industrial Assistance. This was more than double the total of US$7.8bn in the previous fiscal year. The FDI inflow for 2007-08 has been reported as $24bn[22] and for 2008–09, it is expected to be above $35 billion.[23] A critical factor in determining India's continued economic growth and realising the potential to be an economic superpower is going to depend on how the government can create incentives for FDI flow across a large number of sectors in India.[24] In September 2012 the government approved 51% FDI in multi-brand retails despite a lot of pressure from coalition parties.[25] In 2019, the government allowed 100% FDI in Coal mining.[26]\n",
      "\n",
      "Remittances\n",
      "Main article: Remittances to India\n",
      "Remittances to India are money transfers from Indian workers employed outside the country to friends or relatives in India. Since 1991, India has experienced sharp remittance growth, and it is now the world's leading receiver of remittances. In, 1991 Indian remittances totaled 2.1 billion USD;[27][28] in 2006, they were estimated at between $22 billion[29] and $25.7 billion,[30] about 3% of India's GDP.[30][27] India claimed more than 12% of the world's remittances in 2007.[31] In 2017 remittances stood at about US$69 billion.\n",
      "\n",
      "As per the Ministry of Overseas Indian Affairs (MOIA), remittance is received from the approximately 35 million members of the Indian diaspora.[32]\n",
      "\n",
      "Culture\n",
      "IT industry\n",
      "Main article: Information technology in India\n",
      "The integration of technology in India has transformed jobs which required specialized skills and lacked decision-making skills to extensively-defined jobs with higher accountability that require new skills, such as numerical, analytical, communication and interactive skills. As a result of this, more job opportunities are created for people. Technology has also influenced many firms to give their workers more freedom in the workplace. For instance, workers who perform non-routine tasks benefit more than workers who do not.[33]\n",
      "\n",
      "One event that helped India immensely was when Netscape went public on 9 August 1995. Netscape provided globalization through technology in three major ways. First, Netscape made it possible for the browser to display images from websites. Second, the investment of billions in fibre-optic telecommunications influenced by the dot-com boom and the dot com bubble poured a great deal of hard currency into the Indian economy[citation needed]. Last, the over-investment in technology made it cheaper by creating a global fibre network, which made it easier and faster to transmit data (5).[34]\n",
      "\n",
      "As a result of the Netscape IPO, more job opportunities were created for Indians, including ones outsourced from other countries. One of the milestones in job opportunities was when thousands of Indian engineers were hired to fix the Y2K bug. The job could have been given to many other companies, but it was outsourced to India. India was now seen in a different light, as being ready to join the workforce as well as able to compete against first-world countries for jobs.[34]\n",
      "\n",
      "Agriculture\n",
      "Although India has had immense economic growth, not all sectors of the country have benefited. The funds that should have been directed to the agriculture sector were directed to private-sector enterprises. For instance, growth in the agricultural sector dropped from 3.8% in 2007 to 2.6% in 2008. This decline in growth has greatly affected farmers because production costs are very high, while commodity costs are low. This has resulted in over 150,000 peasant suicides since 1997.[35]\n",
      "\n",
      "Another way globalization has affected the agricultural sector is through biofuel and medicinal cultivation. There is a food security crisis in India because a significant portion of the land has been designated to grow crops for biofuel. Crops like rice and wheat are often harvested in large quantities. However, the amount of crops that are used for biofuel is largely unregulated, with an inadequate amount going to the poor and needy.\n",
      "\n",
      "Social mobility\n",
      "Social mobility is the degree to which people can change their socioeconomic status and move between different social strata.[36] Globalization and economic liberalization have driven social mobility in India in various ways.\n",
      "\n",
      "One factor that influences social mobility in India is occupation mobility, which refers to how a parent’s career determines that of their children, or how people can change their careers within a single generation.[36] Globalization has enabled occupation mobility in India through the \"high-tech revolution\" and the employment it has driven.[37] Occupation mobility has risen due to increased employment opportunities stemming from the entry of new global industries and FDI, which has contributed to the gradual dismantling of existing social structures, including caste.[38] A reduction of poverty and consequent upward movement of members of lower classes has been attributed to a trickle-down effect resulting from faster economic growth that globalization has enabled.[39] This has helped people from lower socioeconomic classes enter higher social strata by enhancing their skills and income through education and training.[40]\n",
      "\n",
      "However, this social mobility is selective and has also resulted in an intensification of inequality. The WEF ranks India as 76th in its Global Social Mobility Index, explaining that in economies like India's, there may be a gross upwards shift in income across the whole population, strata may remain unchanged.[41] Rigidity of social strata has been noted as being especially high in developing countries like India.[42]\n",
      "\n",
      "Social mobility affects the values, aspirations, and lifestyle of people who experience it, as they have to adapt to their new class's changing social norms and expectations.[43] This has been observed both with second-generation industrialists acquiring higher levels of education in order to better fit into their new social class, as well as in a \"keeping up with the Joneses\"-esque consumption culture that has become widespread among the Indian middle class.[44][45] Both the need for higher degrees of education and increased consumption are underpinned by an operationalization of the ideals of respectability and social image.[45] Globalization has enhanced this consumption culture through the increased exposure to, and the influx of, foreign brands and products, as well as the consequent consumer acculturation.[46]\n"
     ]
    }
   ],
   "source": [
    "#reading the data.txt \n",
    "file_path = r'C:\\Users\\UpforceTech\\mcqgen\\data.txt'\n",
    "\n",
    "with open(file_path,'r') as file:\n",
    "    TEXT = file.read()\n",
    "\n",
    "print(TEXT)"
   ]
  },
  {
   "cell_type": "code",
   "execution_count": 62,
   "metadata": {},
   "outputs": [
    {
     "data": {
      "text/plain": [
       "'{\"1\": {\"mcq\": \"multiple choice question\", \"options\": {\"a\": \"choice here\", \"b\": \"choice here\", \"c\": \"choice here\", \"d\": \"choice here\"}, \"correct\": \"correct answer\"}, \"2\": {\"mcq\": \"multiple choice question\", \"options\": {\"a\": \"choice here\", \"b\": \"choice here\", \"c\": \"choice here\", \"d\": \"choice here\"}, \"correct\": \"correct answer\"}, \"3\": {\"mcq\": \"multiple choice question\", \"options\": {\"a\": \"choice here\", \"b\": \"choice here\", \"c\": \"choice here\", \"d\": \"choice here\"}, \"correct\": \"correct answer\"}}'"
      ]
     },
     "execution_count": 62,
     "metadata": {},
     "output_type": "execute_result"
    }
   ],
   "source": [
    "# Conveting the python dictionary into a JSON-formatted string\n",
    "json.dumps(RESPONSE_JSON)"
   ]
  },
  {
   "cell_type": "code",
   "execution_count": 63,
   "metadata": {},
   "outputs": [],
   "source": [
    "NUMBER = 5\n",
    "SUBJECT ='globalization in india'\n",
    "TONE = 'simple'"
   ]
  },
  {
   "cell_type": "code",
   "execution_count": 64,
   "metadata": {},
   "outputs": [
    {
     "name": "stdout",
     "output_type": "stream",
     "text": [
      "\n",
      "\n",
      "\u001b[1m> Entering new SequentialChain chain...\u001b[0m\n",
      "\n",
      "\n",
      "\u001b[1m> Entering new LLMChain chain...\u001b[0m\n",
      "Prompt after formatting:\n",
      "\u001b[32;1m\u001b[1;3m\n",
      "TextGlobalization is a process that encompasses the causes, courses, and consequences of transnational and transcultural integration of human and non-human activities. India had the distinction of being the world's largest economy till the end of the Mughal era, as it accounted for about 32.9% share of world GDP and about 17% of the world population. The goods produced in India had long been exported to far off destinations across the world;[1] the concept of globalization is hardly new to India.\n",
      "\n",
      "India currently accounts for 2.7% of world trade (as of 2015), up from 1.2% in 2006 according to the World Trade Organization (WTO).[2] Until the liberalisation of 1991, India was largely and intentionally isolated from the world markets, to protect its fledgeling economy and to achieve self-reliance. Foreign trade was subject to import tariffs, export taxes and quantitative restrictions, while foreign direct investment was restricted by upper-limit equity participation, restrictions on technology transfer, export obligations and government approvals; these approvals were needed for nearly 60% of new FDI in the industrial sector.[3] The restrictions ensured that FDI averaged only around $200M annually between 1985 and 1991; a large percentage of the capital flows consisted of foreign aid, commercial borrowing and deposits of non-resident Indians.[4]\n",
      "\n",
      "India's exports were stagnant for the first 15 years after independence, due to the predominance of tea, jute and cotton manufactures, demand for which was generally inelastic. Imports in the same period consisted predominantly of machinery, equipment and raw materials, due to nascent industrialisation. Since liberalisation, the value of India's international trade has become more broad-based and has risen to  63,0801 billion in 2003–04 from  12.50 billion in 1950–51.[citation needed] India's trading partners are China, the US, the UAE, the UK, Japan and the EU.[5] The exports during April 2007 were $12.31 billion up by 16% and import were $17.68 billion with an increase of 18.06% over the previous year.[6]\n",
      "\n",
      "India is a founding-member of General Agreement on Tariffs and Trade (GATT) since 1947 and its successor, the World Trade Organization. While participating actively in its general council meetings, India has been crucial in voicing the concerns of the developing world. For instance, India has continued its opposition to the inclusion of such matters as labour and environment issues and other non-tariff barriers into the WTO policies.[7]\n",
      "\n",
      "Despite reducing import restrictions several times in the 2000s,[8][9] India was evaluated by the WTO in 2008 as more restrictive than similar developing economies, such as Brazil, China, and Russia. The WTO also identified electricity shortages and inadequate transportation infrastructure as significant constraints on trade.[10][11][12] Its restrictiveness has been cited as a factor which isolated it from the global financial crisis of 2008–2009 more than other countries, even though it experienced reduced ongoing economic growth.[13]\n",
      "\n",
      "Economy\n",
      "India's economy has grown drastically since it integrated into the global economy in 1991. It has a drastic impact on India's economical condition. Its average annual rate has grown from 3.5% (1980–1990) to 7.7% (2002–2012). That rate peaked at 9.5% from 2005 to 2008. Economic growth has also led to increases in the per capita gross domestic product (GDP), from $1,255 in 1978 to $3,452 in 2005, and finally to $8,358 in 2022.[14]\n",
      "\n",
      "Jobs in the technology and business sectors have many benefits. However, only the people in those sectors are benefiting. The overall employment rate for the country has decreased, while the number of job seekers is increasing at a yearly rate of 2.5%. Despite these statistics, the GDP is increasing every year. Growth is limited to some states, including Gujarat, Maharashtra, Karnataka, Andhra Pradesh, and Tamil Nadu. Other states like Bihar, Uttar Pradesh (UP), Odisha, Madhya Pradesh (MP), Assam, and West Bengal remain poverty-stricken.[15]\n",
      "\n",
      "Investment\n",
      "See also: Economic liberalisation in India\n",
      "Share of top five investing countries in FDI inflows (Apr 2000 – Sept 2016)\n",
      "Rank\tCountry\tInflows\n",
      "(million USD)\tInflows (%)\n",
      "1\t Mauritius\t101,759.68\t32.81%[16]\n",
      "2\t Singapore\t50,559.91\t16.30%\n",
      "3\t United Kingdom\t24,072.30\t7.76%\n",
      "4\t Japan\t23,760.47\t7.66%\n",
      "5\t United States\t19,380.43\t6.25%\n",
      "Source: FDI in India Statistics[17]\n",
      "Foreign direct investment (FDI) in India has reached 2% of GDP, compared with 0.1% in 1990, and Indian investment in other countries rose sharply in 2006.[18]\n",
      "\n",
      "As the third-largest economy in the world in PPP terms, India is a preferred destination for FDI;[19] India has strengths in information technology and other significant areas such as auto components, chemicals, apparels, pharmaceuticals, and jewellery. Despite a surge in foreign investments, rigid FDI policies resulted in a significant hindrance. However, due to some positive economic reforms aimed at deregulating the economy and stimulating foreign investment, India has positioned itself as one of the front-runners of the rapidly growing Asia-Pacific region.[19] India has a large pool of skilled managerial and technical expertise. The size of the middle-class population stands at 50 million and represents a growing consumer market.[20]\n",
      "\n",
      "India's liberalised FDI policy as of 2005 allowed up to a 100% FDI stake in ventures. Industrial policy reforms have substantially reduced industrial licensing requirements, removed restrictions on expansion and facilitated easy access to foreign technology and FDI. The upward moving growth curve of the real-estate sector owes some credit to a booming economy and liberalised FDI regime. In March 2005, the government amended the rules to allow 100 per cent FDI in the construction business.[21] This automatic route has been permitted in townships, housing, built-up infrastructure and construction development projects including housing, commercial premises, hotels, resorts, hospitals, educational institutions, recreational facilities, and city- and regional-level infrastructure.\n",
      "\n",
      "Several changes were approved on the FDI policy to remove the caps in most sectors. Fields which require relaxation in FDI restrictions include civil aviation, construction development, industrial parks, petroleum and natural gas, commodity exchanges, credit-information services and mining. But this still leaves an unfinished agenda of permitting greater foreign investment in politically sensitive areas such as insurance and retailing. FDI inflows into India reached a record US$19.5bn in fiscal year 2006/07 (April–March), according to the government's Secretariat for Industrial Assistance. This was more than double the total of US$7.8bn in the previous fiscal year. The FDI inflow for 2007-08 has been reported as $24bn[22] and for 2008–09, it is expected to be above $35 billion.[23] A critical factor in determining India's continued economic growth and realising the potential to be an economic superpower is going to depend on how the government can create incentives for FDI flow across a large number of sectors in India.[24] In September 2012 the government approved 51% FDI in multi-brand retails despite a lot of pressure from coalition parties.[25] In 2019, the government allowed 100% FDI in Coal mining.[26]\n",
      "\n",
      "Remittances\n",
      "Main article: Remittances to India\n",
      "Remittances to India are money transfers from Indian workers employed outside the country to friends or relatives in India. Since 1991, India has experienced sharp remittance growth, and it is now the world's leading receiver of remittances. In, 1991 Indian remittances totaled 2.1 billion USD;[27][28] in 2006, they were estimated at between $22 billion[29] and $25.7 billion,[30] about 3% of India's GDP.[30][27] India claimed more than 12% of the world's remittances in 2007.[31] In 2017 remittances stood at about US$69 billion.\n",
      "\n",
      "As per the Ministry of Overseas Indian Affairs (MOIA), remittance is received from the approximately 35 million members of the Indian diaspora.[32]\n",
      "\n",
      "Culture\n",
      "IT industry\n",
      "Main article: Information technology in India\n",
      "The integration of technology in India has transformed jobs which required specialized skills and lacked decision-making skills to extensively-defined jobs with higher accountability that require new skills, such as numerical, analytical, communication and interactive skills. As a result of this, more job opportunities are created for people. Technology has also influenced many firms to give their workers more freedom in the workplace. For instance, workers who perform non-routine tasks benefit more than workers who do not.[33]\n",
      "\n",
      "One event that helped India immensely was when Netscape went public on 9 August 1995. Netscape provided globalization through technology in three major ways. First, Netscape made it possible for the browser to display images from websites. Second, the investment of billions in fibre-optic telecommunications influenced by the dot-com boom and the dot com bubble poured a great deal of hard currency into the Indian economy[citation needed]. Last, the over-investment in technology made it cheaper by creating a global fibre network, which made it easier and faster to transmit data (5).[34]\n",
      "\n",
      "As a result of the Netscape IPO, more job opportunities were created for Indians, including ones outsourced from other countries. One of the milestones in job opportunities was when thousands of Indian engineers were hired to fix the Y2K bug. The job could have been given to many other companies, but it was outsourced to India. India was now seen in a different light, as being ready to join the workforce as well as able to compete against first-world countries for jobs.[34]\n",
      "\n",
      "Agriculture\n",
      "Although India has had immense economic growth, not all sectors of the country have benefited. The funds that should have been directed to the agriculture sector were directed to private-sector enterprises. For instance, growth in the agricultural sector dropped from 3.8% in 2007 to 2.6% in 2008. This decline in growth has greatly affected farmers because production costs are very high, while commodity costs are low. This has resulted in over 150,000 peasant suicides since 1997.[35]\n",
      "\n",
      "Another way globalization has affected the agricultural sector is through biofuel and medicinal cultivation. There is a food security crisis in India because a significant portion of the land has been designated to grow crops for biofuel. Crops like rice and wheat are often harvested in large quantities. However, the amount of crops that are used for biofuel is largely unregulated, with an inadequate amount going to the poor and needy.\n",
      "\n",
      "Social mobility\n",
      "Social mobility is the degree to which people can change their socioeconomic status and move between different social strata.[36] Globalization and economic liberalization have driven social mobility in India in various ways.\n",
      "\n",
      "One factor that influences social mobility in India is occupation mobility, which refers to how a parent’s career determines that of their children, or how people can change their careers within a single generation.[36] Globalization has enabled occupation mobility in India through the \"high-tech revolution\" and the employment it has driven.[37] Occupation mobility has risen due to increased employment opportunities stemming from the entry of new global industries and FDI, which has contributed to the gradual dismantling of existing social structures, including caste.[38] A reduction of poverty and consequent upward movement of members of lower classes has been attributed to a trickle-down effect resulting from faster economic growth that globalization has enabled.[39] This has helped people from lower socioeconomic classes enter higher social strata by enhancing their skills and income through education and training.[40]\n",
      "\n",
      "However, this social mobility is selective and has also resulted in an intensification of inequality. The WEF ranks India as 76th in its Global Social Mobility Index, explaining that in economies like India's, there may be a gross upwards shift in income across the whole population, strata may remain unchanged.[41] Rigidity of social strata has been noted as being especially high in developing countries like India.[42]\n",
      "\n",
      "Social mobility affects the values, aspirations, and lifestyle of people who experience it, as they have to adapt to their new class's changing social norms and expectations.[43] This has been observed both with second-generation industrialists acquiring higher levels of education in order to better fit into their new social class, as well as in a \"keeping up with the Joneses\"-esque consumption culture that has become widespread among the Indian middle class.[44][45] Both the need for higher degrees of education and increased consumption are underpinned by an operationalization of the ideals of respectability and social image.[45] Globalization has enhanced this consumption culture through the increased exposure to, and the influx of, foreign brands and products, as well as the consequent consumer acculturation.[46]\n",
      "You are an expert MCQ maker. Given the above text, it is your job to create a quiz of 5 multiple choice questions for globalization in india students in simple tone.\n",
      "Make sute the questions are not repeated and check all the questions to be confirmed the text as well.\n",
      "Make sure to format your response like RESPONSE_JSON below and use it as a guide. Ensure to make 5 MCQs\n",
      "### RESPONSE_JSON\n",
      "{\"1\": {\"mcq\": \"multiple choice question\", \"options\": {\"a\": \"choice here\", \"b\": \"choice here\", \"c\": \"choice here\", \"d\": \"choice here\"}, \"correct\": \"correct answer\"}, \"2\": {\"mcq\": \"multiple choice question\", \"options\": {\"a\": \"choice here\", \"b\": \"choice here\", \"c\": \"choice here\", \"d\": \"choice here\"}, \"correct\": \"correct answer\"}, \"3\": {\"mcq\": \"multiple choice question\", \"options\": {\"a\": \"choice here\", \"b\": \"choice here\", \"c\": \"choice here\", \"d\": \"choice here\"}, \"correct\": \"correct answer\"}}\n",
      "\n",
      "\u001b[0m\n",
      "\n",
      "\u001b[1m> Finished chain.\u001b[0m\n",
      "\n",
      "\n",
      "\u001b[1m> Entering new LLMChain chain...\u001b[0m\n",
      "Prompt after formatting:\n",
      "\u001b[32;1m\u001b[1;3m\n",
      "You are an expert english grammarian and writer. Given a Multiple Choice Quiz for globalization in india students.You need to evaluate the complexity of the question and give a complete analysis of the quiz. Only use at max 50 words for complexity analysis. \n",
      "if the quiz is not at per with the cognitive and analytical abilities of the students,update the quiz questions which needs to be changed and change the tone such that it perfectly fits the student abilities\n",
      "Quiz_MCQs:\n",
      "{\"1\": {\"mcq\": \"What is the current percentage of world trade that India accounts for?\", \"options\": {\"a\": \"1.2%\", \"b\": \"2.7%\", \"c\": \"7.7%\", \"d\": \"9.5%\"}, \"correct\": \"b\"}, \"2\": {\"mcq\": \"What was the value of India's international trade in 2003-04?\", \"options\": {\"a\": \"$12.50 billion\", \"b\": \"$63,0801 billion\", \"c\": \"$17.68 billion\", \"d\": \"$12.31 billion\"}, \"correct\": \"b\"}, \"3\": {\"mcq\": \"Which countries are India's trading partners?\", \"options\": {\"a\": \"China, US, UAE, UK, Japan, EU\", \"b\": \"Brazil, China, Russia\", \"c\": \"Mauritius, Singapore, United Kingdom, Japan, United States\", \"d\": \"China, US, UK, Japan, EU\"}, \"correct\": \"a\"}, \"4\": {\"mcq\": \"What is the current percentage of FDI in India compared to GDP?\", \"options\": {\"a\": \"0.1%\", \"b\": \"2%\", \"c\": \"7.76%\", \"d\": \"6.25%\"}, \"correct\": \"b\"}, \"5\": {\"mcq\": \"What is the leading source of remittances to India?\", \"options\": {\"a\": \"Indian workers employed outside the country\", \"b\": \"Foreign direct investment\", \"c\": \"Foreign aid\", \"d\": \"Commercial borrowing\"}, \"correct\": \"a\"}}\n",
      "\n",
      "Check from an expert English Writer of the above quiz:\n",
      "\u001b[0m\n",
      "\n",
      "\u001b[1m> Finished chain.\u001b[0m\n",
      "\n",
      "\u001b[1m> Finished chain.\u001b[0m\n"
     ]
    }
   ],
   "source": [
    "# get_openai_callback() is used to set up token usage tracking in langchain\n",
    "with get_openai_callback() as cb:\n",
    "    response = generate_evaluate_chain(\n",
    "        {\n",
    "            'text':TEXT,\n",
    "            'number':NUMBER,\n",
    "            'subject':SUBJECT,\n",
    "            'tone':TONE,\n",
    "            'response_json': json.dumps(RESPONSE_JSON)\n",
    "        }\n",
    "    )"
   ]
  },
  {
   "cell_type": "code",
   "execution_count": 65,
   "metadata": {},
   "outputs": [
    {
     "name": "stdout",
     "output_type": "stream",
     "text": [
      "Total Tokens:3853\n",
      "Prompt Tokens:3476\n",
      "Completion Tokens:377\n",
      "Total Cost:0.005968\n"
     ]
    }
   ],
   "source": [
    "print(f\"Total Tokens:{cb.total_tokens}\")\n",
    "print(f\"Prompt Tokens:{cb.prompt_tokens}\")\n",
    "print(f\"Completion Tokens:{cb.completion_tokens}\")\n",
    "print(f\"Total Cost:{cb.total_cost}\")"
   ]
  },
  {
   "cell_type": "code",
   "execution_count": 66,
   "metadata": {},
   "outputs": [],
   "source": [
    "quiz = response.get('quiz')\n",
    "quiz = json.loads(quiz)"
   ]
  },
  {
   "cell_type": "code",
   "execution_count": 67,
   "metadata": {},
   "outputs": [
    {
     "data": {
      "text/plain": [
       "{'1': {'mcq': 'What is the current percentage of world trade that India accounts for?',\n",
       "  'options': {'a': '1.2%', 'b': '2.7%', 'c': '7.7%', 'd': '9.5%'},\n",
       "  'correct': 'b'},\n",
       " '2': {'mcq': \"What was the value of India's international trade in 2003-04?\",\n",
       "  'options': {'a': '$12.50 billion',\n",
       "   'b': '$63,0801 billion',\n",
       "   'c': '$17.68 billion',\n",
       "   'd': '$12.31 billion'},\n",
       "  'correct': 'b'},\n",
       " '3': {'mcq': \"Which countries are India's trading partners?\",\n",
       "  'options': {'a': 'China, US, UAE, UK, Japan, EU',\n",
       "   'b': 'Brazil, China, Russia',\n",
       "   'c': 'Mauritius, Singapore, United Kingdom, Japan, United States',\n",
       "   'd': 'China, US, UK, Japan, EU'},\n",
       "  'correct': 'a'},\n",
       " '4': {'mcq': 'What is the current percentage of FDI in India compared to GDP?',\n",
       "  'options': {'a': '0.1%', 'b': '2%', 'c': '7.76%', 'd': '6.25%'},\n",
       "  'correct': 'b'},\n",
       " '5': {'mcq': 'What is the leading source of remittances to India?',\n",
       "  'options': {'a': 'Indian workers employed outside the country',\n",
       "   'b': 'Foreign direct investment',\n",
       "   'c': 'Foreign aid',\n",
       "   'd': 'Commercial borrowing'},\n",
       "  'correct': 'a'}}"
      ]
     },
     "execution_count": 67,
     "metadata": {},
     "output_type": "execute_result"
    }
   ],
   "source": [
    "quiz"
   ]
  },
  {
   "cell_type": "code",
   "execution_count": 68,
   "metadata": {},
   "outputs": [],
   "source": [
    "quiz_table_data = []\n",
    "for key, value in quiz.items():\n",
    "    mcq = value[\"mcq\"]\n",
    "    options = \" | \".join(\n",
    "        [\n",
    "            f\"{option}: {option_value}\"\n",
    "            for option, option_value in value[\"options\"].items()\n",
    "            ]\n",
    "        )\n",
    "    correct = value[\"correct\"]\n",
    "    quiz_table_data.append({\"MCQ\": mcq, \"Choices\": options, \"Correct\": correct})"
   ]
  },
  {
   "cell_type": "code",
   "execution_count": 69,
   "metadata": {},
   "outputs": [
    {
     "data": {
      "text/plain": [
       "[{'MCQ': 'What is the current percentage of world trade that India accounts for?',\n",
       "  'Choices': 'a: 1.2% | b: 2.7% | c: 7.7% | d: 9.5%',\n",
       "  'Correct': 'b'},\n",
       " {'MCQ': \"What was the value of India's international trade in 2003-04?\",\n",
       "  'Choices': 'a: $12.50 billion | b: $63,0801 billion | c: $17.68 billion | d: $12.31 billion',\n",
       "  'Correct': 'b'},\n",
       " {'MCQ': \"Which countries are India's trading partners?\",\n",
       "  'Choices': 'a: China, US, UAE, UK, Japan, EU | b: Brazil, China, Russia | c: Mauritius, Singapore, United Kingdom, Japan, United States | d: China, US, UK, Japan, EU',\n",
       "  'Correct': 'a'},\n",
       " {'MCQ': 'What is the current percentage of FDI in India compared to GDP?',\n",
       "  'Choices': 'a: 0.1% | b: 2% | c: 7.76% | d: 6.25%',\n",
       "  'Correct': 'b'},\n",
       " {'MCQ': 'What is the leading source of remittances to India?',\n",
       "  'Choices': 'a: Indian workers employed outside the country | b: Foreign direct investment | c: Foreign aid | d: Commercial borrowing',\n",
       "  'Correct': 'a'}]"
      ]
     },
     "execution_count": 69,
     "metadata": {},
     "output_type": "execute_result"
    }
   ],
   "source": [
    "quiz_table_data"
   ]
  },
  {
   "cell_type": "code",
   "execution_count": 70,
   "metadata": {},
   "outputs": [],
   "source": [
    "quiz = pd.DataFrame(quiz_table_data)\n",
    "\n",
    "quiz.to_csv('machinelearning.csv', index=False)"
   ]
  },
  {
   "cell_type": "code",
   "execution_count": 71,
   "metadata": {},
   "outputs": [],
   "source": [
    "from datetime import datetime"
   ]
  },
  {
   "cell_type": "code",
   "execution_count": 77,
   "metadata": {},
   "outputs": [
    {
     "data": {
      "text/plain": [
       "'01_08_2024_14_33_18.log'"
      ]
     },
     "execution_count": 77,
     "metadata": {},
     "output_type": "execute_result"
    }
   ],
   "source": [
    "LOG_FILE = f\"{datetime.now().strftime('%m_%d_%Y_%H_%M_%S')}.log\"\n",
    "LOG_FILE"
   ]
  },
  {
   "cell_type": "code",
   "execution_count": null,
   "metadata": {},
   "outputs": [],
   "source": []
  }
 ],
 "metadata": {
  "kernelspec": {
   "display_name": "Python 3",
   "language": "python",
   "name": "python3"
  },
  "language_info": {
   "codemirror_mode": {
    "name": "ipython",
    "version": 3
   },
   "file_extension": ".py",
   "mimetype": "text/x-python",
   "name": "python",
   "nbconvert_exporter": "python",
   "pygments_lexer": "ipython3",
   "version": "3.8.18"
  }
 },
 "nbformat": 4,
 "nbformat_minor": 2
}
